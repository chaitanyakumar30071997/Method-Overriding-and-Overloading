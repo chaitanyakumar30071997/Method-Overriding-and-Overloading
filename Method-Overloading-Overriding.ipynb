{
 "cells": [
  {
   "cell_type": "markdown",
   "id": "fd2642a1-2e18-4ecf-9376-8bbbe4059b38",
   "metadata": {},
   "source": [
    "# Method Overloading\n",
    "1. It refers to defining multiple methods with the same name but different parameters.\n",
    "2. The use of default arguments can help in achieving method overloading\n",
    "3. Based on the input parameters, it allows a class to have multiple methods with the same name but different behaviours\n",
    "4. The method choice is determined during the compile time based on the number and types of arguments passed to the method.\n",
    "5. The method is not natively supported in Python.\n",
    "   "
   ]
  },
  {
   "cell_type": "code",
   "execution_count": 45,
   "id": "874d887c-cd40-46a9-a142-ba8cb431b5c1",
   "metadata": {},
   "outputs": [
    {
     "name": "stdout",
     "output_type": "stream",
     "text": [
      "adding a + b = 8\n",
      "adding a + b  + c =  14\n",
      "adding a + b + c + d =  34\n"
     ]
    }
   ],
   "source": [
    "# Method overloading \n",
    "class adding:\n",
    "    def add(self,a,b ):\n",
    "        return a + b\n",
    "        \n",
    "    def add(self,a,b,c = 1):\n",
    "        return a + b + c\n",
    "\n",
    "    def add(self,a,b,c = 0,d = 0):\n",
    "        return a + b + c + d \n",
    "\n",
    "obj = adding()\n",
    "print('adding a + b =',obj.add(2,6))\n",
    "print('adding a + b  + c = ',obj.add(4,4,6,))\n",
    "print('adding a + b + c + d = ',obj.add(7,8,9,10))"
   ]
  },
  {
   "cell_type": "code",
   "execution_count": 1,
   "id": "ae9ad097-b9cd-44a3-a942-f6b2420a5179",
   "metadata": {},
   "outputs": [
    {
     "name": "stdout",
     "output_type": "stream",
     "text": [
      "Unsupported currency\n",
      "100\n",
      "155.0\n"
     ]
    }
   ],
   "source": [
    "# Method Overloading\n",
    "class BankAccount:\n",
    "    def __init__(self, balance=0):\n",
    "        self.balance = balance\n",
    "\n",
    "    def deposit(self, amount, currency=\"INR\"):\n",
    "        if currency == \"INT\":\n",
    "            self.balance += amount\n",
    "        elif currency == \"USC\":\n",
    "            self.balance += amount * 1.1  \n",
    "        else:\n",
    "            print(\"Unsupported currency\")\n",
    "\n",
    "    def get_balance(self):\n",
    "        return self.balance\n",
    "\n",
    "\n",
    "account = BankAccount(100)\n",
    "account.deposit(50)  \n",
    "print(account.get_balance())  \n",
    "\n",
    "account.deposit(50, \"USC\")  \n",
    "print(account.get_balance())  \n"
   ]
  },
  {
   "cell_type": "markdown",
   "id": "5bf8065e-deaf-42b8-b426-607cb46ed50f",
   "metadata": {},
   "source": [
    "# Method Overriding\n",
    "1. It defines the method in a subclass that has the same name as one of its superclasses\n",
    "2. It can be achieved by defining the method in a subclass with the same name as one of its superclasses\n",
    "3. It will enable a subclass to provide its implementation of a method defined in the superclass.\n",
    "4. The choice of calling a method is determined at runtime based on the actual object\n",
    "5. Supported natively in Python "
   ]
  },
  {
   "cell_type": "code",
   "execution_count": 44,
   "id": "79b5b9d0-25ab-42d0-b3ee-0695e791849b",
   "metadata": {},
   "outputs": [
    {
     "name": "stdout",
     "output_type": "stream",
     "text": [
      "In India Market BMW is Top 2 place\n",
      "Audi New  Designs Audi Start Google Assistant\n"
     ]
    }
   ],
   "source": [
    "# Overriding Method \n",
    "class AutoMatic_car():\n",
    "    def Auto(self):\n",
    "        return ('AutoMataic Car ManuFacturing')\n",
    "\n",
    "\n",
    "class BMW(AutoMatic_car):\n",
    "    def auto_doors(self):\n",
    "        return ('In India Market BMW is Top 2 place')\n",
    "\n",
    "\n",
    "class Audi(AutoMatic_car):\n",
    "    def auto_start(self):\n",
    "        return ('Audi New  Designs Audi Start Google Assistant')\n",
    "\n",
    "\n",
    "bmw = BMW()\n",
    "audi = Audi()\n",
    "\n",
    "print(bmw.auto_doors())\n",
    "print(audi.auto_start())\n",
    "\n",
    "\n",
    "\n",
    "\n",
    "\n",
    "\n"
   ]
  },
  {
   "cell_type": "code",
   "execution_count": 2,
   "id": "fd8856cf-6cae-441b-ae48-43b5b5c12955",
   "metadata": {},
   "outputs": [
    {
     "name": "stdout",
     "output_type": "stream",
     "text": [
      "50\n",
      "145\n"
     ]
    }
   ],
   "source": [
    "# Method Overriding\n",
    "\n",
    "class BankAccount:\n",
    "    def __init__(self, balance=0):\n",
    "        self.balance = balance\n",
    "\n",
    "    def deposit(self, amount):\n",
    "        self.balance += amount\n",
    "\n",
    "    def withdraw(self, amount):\n",
    "        if amount <= self.balance:\n",
    "            self.balance -= amount\n",
    "        else:\n",
    "            print(\"Insufficient funds\")\n",
    "\n",
    "    def get_balance(self):\n",
    "        return self.balance\n",
    "\n",
    "class SavingsAccount(BankAccount):\n",
    "    def __init__(self, balance=0, interest_rate=0.02):\n",
    "        super().__init__(balance)\n",
    "        self.interest_rate = interest_rate\n",
    "\n",
    "    def add_interest(self):\n",
    "        self.balance += self.balance * self.interest_rate\n",
    "\n",
    "    \n",
    "    def withdraw(self, amount):\n",
    "        fee = 5  \n",
    "        total_amount = amount + fee\n",
    "        if total_amount <= self.balance:\n",
    "            self.balance -= total_amount\n",
    "        else:\n",
    "            print(\"Insufficient funds\")\n",
    "\n",
    "\n",
    "account = BankAccount(100)\n",
    "savings = SavingsAccount(200)\n",
    "\n",
    "account.withdraw(50)\n",
    "print(account.get_balance())  \n",
    "\n",
    "savings.withdraw(50)\n",
    "print(savings.get_balance())  "
   ]
  },
  {
   "cell_type": "code",
   "execution_count": null,
   "id": "7e50b83b-8c73-4d46-b464-38f896ea0734",
   "metadata": {},
   "outputs": [],
   "source": []
  }
 ],
 "metadata": {
  "kernelspec": {
   "display_name": "Python 3 (ipykernel)",
   "language": "python",
   "name": "python3"
  },
  "language_info": {
   "codemirror_mode": {
    "name": "ipython",
    "version": 3
   },
   "file_extension": ".py",
   "mimetype": "text/x-python",
   "name": "python",
   "nbconvert_exporter": "python",
   "pygments_lexer": "ipython3",
   "version": "3.11.4"
  }
 },
 "nbformat": 4,
 "nbformat_minor": 5
}
